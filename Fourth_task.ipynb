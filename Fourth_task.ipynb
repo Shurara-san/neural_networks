{
  "nbformat": 4,
  "nbformat_minor": 0,
  "metadata": {
    "colab": {
      "name": "Fourth_task.ipynb",
      "provenance": []
    },
    "kernelspec": {
      "name": "python3",
      "display_name": "Python 3"
    },
    "language_info": {
      "name": "python"
    },
    "accelerator": "GPU"
  },
  "cells": [
    {
      "cell_type": "code",
      "execution_count": 49,
      "metadata": {
        "id": "4kogDVm7B23f"
      },
      "outputs": [],
      "source": [
        "from tensorflow.keras.datasets import fashion_mnist\n",
        "from tensorflow.keras.utils import to_categorical\n",
        "\n",
        "import numpy as np\n",
        "import tensorflow as tf\n",
        "from tensorflow.keras.models import Sequential, Model\n",
        "from tensorflow.keras.layers import Conv2D, Input\n",
        "from tensorflow.keras.layers import GlobalMaxPooling2D, MaxPooling2D, AveragePooling2D, GlobalAveragePooling2D \n",
        "\n",
        "from tensorflow.keras.utils import plot_model \n",
        "\n",
        "from tensorflow.keras import models, layers\n",
        "import tensorflow.keras as keras\n",
        "\n",
        "import matplotlib.pyplot as plt\n",
        "\n",
        "from tensorflow.keras.layers import Dense, Flatten, Concatenate\n",
        "from tensorflow.keras.utils import plot_model \n",
        "\n",
        "from tensorflow.keras.datasets import cifar10"
      ]
    },
    {
      "cell_type": "markdown",
      "source": [
        "# Вариант 1. (простой)\n",
        "\n"
      ],
      "metadata": {
        "id": "Paij6n23yhTX"
      }
    },
    {
      "cell_type": "markdown",
      "source": [
        "## 1.1 Загрузка данных, разбиение на тренировочную и тестовую выборки"
      ],
      "metadata": {
        "id": "4Gfty_dZ2kpd"
      }
    },
    {
      "cell_type": "code",
      "source": [
        "# загрузка тренировочных и тестовых данных\n",
        "(x_train, y_train), (x_test, y_test) = fashion_mnist.load_data()\n",
        "\n",
        "# конвертация чисел из uint8 в float32\n",
        "x_train = x_train.astype('float32')\n",
        "x_test = x_test.astype('float32')\n",
        "\n",
        "# нормализация данных [0, 1]\n",
        "x_train /= 255 \n",
        "x_test /= 255 \n",
        "\n",
        "# трансформация лейблов в one-hot encoding\n",
        "y_train = to_categorical(y_train, 10) \n",
        "y_test = to_categorical(y_test, 10) \n",
        "\n",
        "# изменение размерности массива в 4D массив\n",
        "x_train = x_train.reshape(x_train.shape[0], 28,28,1)\n",
        "x_test = x_test.reshape(x_test.shape[0], 28,28,1)"
      ],
      "metadata": {
        "id": "y7tne7O5CYTL"
      },
      "execution_count": 3,
      "outputs": []
    },
    {
      "cell_type": "markdown",
      "source": [
        "## 1.2 Построение моделей"
      ],
      "metadata": {
        "id": "RRQM4KMN2NfD"
      }
    },
    {
      "cell_type": "code",
      "source": [
        "hist1 = []\n",
        "for i in range(10):\n",
        "  # инициализация пустой модели\n",
        "  model1 = Sequential()\n",
        " \n",
        "  # первый сверточный слой\n",
        "  model1.add(layers.Conv2D(6, kernel_size=(7, 7), strides=(1, 1), activation='tanh', input_shape=(28,28,1), padding=\"same\"))\n",
        "  \n",
        "  # второй пуллинговый слой\n",
        "  model1.add(layers.AveragePooling2D(pool_size=(2, 2), strides=(1, 1), padding='valid'))\n",
        "  \n",
        "  # третий сверточный слой\n",
        "  model1.add(layers.Conv2D(16, kernel_size=(5, 5), strides=(1, 1), activation='tanh', padding='valid'))\n",
        "  \n",
        "  # четвертый пуллинговый слой\n",
        "  model1.add(layers.AveragePooling2D(pool_size=(2, 2), strides=(2, 2), padding='valid'))\n",
        "  \n",
        "  # пятый сверточный слой\n",
        "  model1.add(layers.Conv2D(120, kernel_size=(3, 3), strides=(1, 1), activation='tanh', padding='valid'))\n",
        "  \n",
        "  # сглаживание CNN выхода чтобы можно было его присоединить к полносвязному слою\n",
        "  model1.add(layers.Flatten())\n",
        "  \n",
        "  # шестой полносвязный слой\n",
        "  model1.add(layers.Dense(84, activation='tanh'))\n",
        "  \n",
        "  # выходной слой с функцией активации softmax\n",
        "  model1.add(layers.Dense(10, activation='softmax'))\n",
        "  \n",
        "  # компилияция модели\n",
        "  model1.compile(loss=keras.losses.categorical_crossentropy, optimizer='SGD', metrics=[\"accuracy\"])\n",
        "  \n",
        "  \n",
        "  hist1.append(model1.fit(x=x_train,y=y_train, epochs=2, batch_size=128, validation_data=(x_test, y_test), verbose=1))"
      ],
      "metadata": {
        "colab": {
          "base_uri": "https://localhost:8080/"
        },
        "id": "UuyS_1cRCaRa",
        "outputId": "760d9361-6213-4235-b471-8449213e8aed"
      },
      "execution_count": 57,
      "outputs": [
        {
          "output_type": "stream",
          "name": "stdout",
          "text": [
            "Epoch 1/2\n",
            "469/469 [==============================] - 8s 16ms/step - loss: 0.8763 - accuracy: 0.6934 - val_loss: 0.6688 - val_accuracy: 0.7356\n",
            "Epoch 2/2\n",
            "469/469 [==============================] - 6s 13ms/step - loss: 0.5656 - accuracy: 0.7918 - val_loss: 0.5512 - val_accuracy: 0.8007\n",
            "Epoch 1/2\n",
            "469/469 [==============================] - 8s 16ms/step - loss: 0.8585 - accuracy: 0.7028 - val_loss: 0.6311 - val_accuracy: 0.7693\n",
            "Epoch 2/2\n",
            "469/469 [==============================] - 6s 13ms/step - loss: 0.5636 - accuracy: 0.7952 - val_loss: 0.5565 - val_accuracy: 0.8024\n",
            "Epoch 1/2\n",
            "469/469 [==============================] - 6s 13ms/step - loss: 0.8875 - accuracy: 0.6980 - val_loss: 0.6382 - val_accuracy: 0.7684\n",
            "Epoch 2/2\n",
            "469/469 [==============================] - 6s 13ms/step - loss: 0.5713 - accuracy: 0.7946 - val_loss: 0.5611 - val_accuracy: 0.7911\n",
            "Epoch 1/2\n",
            "469/469 [==============================] - 6s 13ms/step - loss: 0.8636 - accuracy: 0.7060 - val_loss: 0.6674 - val_accuracy: 0.7480\n",
            "Epoch 2/2\n",
            "469/469 [==============================] - 6s 12ms/step - loss: 0.5641 - accuracy: 0.7961 - val_loss: 0.5518 - val_accuracy: 0.7983\n",
            "Epoch 1/2\n",
            "469/469 [==============================] - 7s 13ms/step - loss: 0.8488 - accuracy: 0.7086 - val_loss: 0.6211 - val_accuracy: 0.7738\n",
            "Epoch 2/2\n",
            "469/469 [==============================] - 6s 12ms/step - loss: 0.5564 - accuracy: 0.7968 - val_loss: 0.5527 - val_accuracy: 0.7939\n",
            "Epoch 1/2\n",
            "469/469 [==============================] - 7s 13ms/step - loss: 0.8884 - accuracy: 0.6952 - val_loss: 0.6364 - val_accuracy: 0.7696\n",
            "Epoch 2/2\n",
            "469/469 [==============================] - 6s 13ms/step - loss: 0.5677 - accuracy: 0.7949 - val_loss: 0.5642 - val_accuracy: 0.7900\n",
            "Epoch 1/2\n",
            "469/469 [==============================] - 7s 13ms/step - loss: 0.8661 - accuracy: 0.7037 - val_loss: 0.6647 - val_accuracy: 0.7568\n",
            "Epoch 2/2\n",
            "469/469 [==============================] - 6s 12ms/step - loss: 0.5629 - accuracy: 0.7945 - val_loss: 0.5539 - val_accuracy: 0.7961\n",
            "Epoch 1/2\n",
            "469/469 [==============================] - 14s 13ms/step - loss: 0.9201 - accuracy: 0.6797 - val_loss: 0.6736 - val_accuracy: 0.7466\n",
            "Epoch 2/2\n",
            "469/469 [==============================] - 6s 13ms/step - loss: 0.5855 - accuracy: 0.7873 - val_loss: 0.5828 - val_accuracy: 0.7870\n",
            "Epoch 1/2\n",
            "469/469 [==============================] - 7s 13ms/step - loss: 0.9401 - accuracy: 0.6813 - val_loss: 0.6588 - val_accuracy: 0.7589\n",
            "Epoch 2/2\n",
            "469/469 [==============================] - 6s 12ms/step - loss: 0.5815 - accuracy: 0.7894 - val_loss: 0.5602 - val_accuracy: 0.7995\n",
            "Epoch 1/2\n",
            "469/469 [==============================] - 7s 13ms/step - loss: 0.8555 - accuracy: 0.7083 - val_loss: 0.6317 - val_accuracy: 0.7722\n",
            "Epoch 2/2\n",
            "469/469 [==============================] - 6s 12ms/step - loss: 0.5579 - accuracy: 0.7976 - val_loss: 0.5536 - val_accuracy: 0.8010\n"
          ]
        }
      ]
    },
    {
      "cell_type": "code",
      "source": [
        "# classes = ['T-shirt/top',\t'Trouser', 'Pullover', 'Dress', 'Coat', 'Sandal', 'Shirt', 'Sneaker', \n",
        "#            'Bag', 'Ankle boot']"
      ],
      "metadata": {
        "id": "QploRFfLGARJ"
      },
      "execution_count": 5,
      "outputs": []
    },
    {
      "cell_type": "code",
      "source": [
        "# x_test.shape"
      ],
      "metadata": {
        "id": "5VpTag7UHRJn"
      },
      "execution_count": 6,
      "outputs": []
    },
    {
      "cell_type": "code",
      "source": [
        "# for i in [56, 125, 1856]:\n",
        "#   N = i\n",
        "#   y_p=model.predict(x_test[N:N+1][:,:,:])\n",
        "#   y_t = np.argmax(y_test[N:N+1], axis = 1 )\n",
        "#   y_i = np.argmax(y_p, axis = 1 )\n",
        "#   # plt.imshow(x_test[N][:,:,:])\n",
        "#   # plt.title('это : '+classes[y_t[0]]+'- опознан как : '+classes[y_i[0]])\n",
        "#   # plt.show()\n",
        "#   print(('это : '+classes[y_t[0]]+', опознан как : '+classes[y_i[0]]))"
      ],
      "metadata": {
        "id": "3K3U6ElNF1vs"
      },
      "execution_count": 7,
      "outputs": []
    },
    {
      "cell_type": "code",
      "source": [
        "hist2 = []\n",
        "for i in range(10):\n",
        "  # инициализация пустой модели\n",
        "  model2 = Sequential()\n",
        "  \n",
        "  # первый сверточный слой\n",
        "  model2.add(layers.Conv2D(6, kernel_size=(7, 7), strides=(1, 1), activation='tanh', input_shape=(28,28,1), padding=\"same\"))\n",
        "  \n",
        "  # второй пуллинговый слой\n",
        "  model2.add(layers.AveragePooling2D(pool_size=(2, 2), strides=(1, 1), padding=\"same\"))\n",
        "  \n",
        "  # третий сверточный слой\n",
        "  model2.add(layers.Conv2D(16, kernel_size=(6, 6), strides=(1, 1), activation='tanh', padding=\"same\"))\n",
        "  \n",
        "  # четвертый пуллинговый слой\n",
        "  model2.add(layers.AveragePooling2D(pool_size=(2, 2), strides=(2, 2), padding=\"same\"))\n",
        "  \n",
        "  # пятый сверточный слой\n",
        "  model2.add(layers.Conv2D(120, kernel_size=(5, 5), strides=(1, 1), activation='tanh', padding=\"same\"))\n",
        "  \n",
        "  # сглаживание CNN выхода чтобы можно было его присоединить к полносвязному слою\n",
        "  model2.add(layers.Flatten())\n",
        "  \n",
        "  # шестой полносвязный слой\n",
        "  model2.add(layers.Dense(84, activation='tanh'))\n",
        "\n",
        "  # выходной слой с функцией активации softmax\n",
        "  model2.add(layers.Dense(10, activation='softmax'))\n",
        "  \n",
        "  # компилияция модели\n",
        "  model2.compile(loss=keras.losses.categorical_crossentropy, optimizer='SGD', metrics=[\"accuracy\"])\n",
        "  \n",
        "  \n",
        "  hist2.append(model2.fit(x=x_train,y=y_train, epochs=2, batch_size=128, validation_data=(x_test, y_test), verbose=1))"
      ],
      "metadata": {
        "colab": {
          "base_uri": "https://localhost:8080/"
        },
        "id": "Tjs03jvybn6j",
        "outputId": "7aee0e89-6d7b-4c25-f368-11689a05f3f3"
      },
      "execution_count": 42,
      "outputs": [
        {
          "output_type": "stream",
          "name": "stdout",
          "text": [
            "Epoch 1/2\n",
            "469/469 [==============================] - 13s 27ms/step - loss: 0.7688 - accuracy: 0.7264 - val_loss: 0.5698 - val_accuracy: 0.7863\n",
            "Epoch 2/2\n",
            "469/469 [==============================] - 14s 30ms/step - loss: 0.4988 - accuracy: 0.8213 - val_loss: 0.4829 - val_accuracy: 0.8299\n",
            "Epoch 1/2\n",
            "469/469 [==============================] - 16s 31ms/step - loss: 0.7231 - accuracy: 0.7458 - val_loss: 0.5490 - val_accuracy: 0.8047\n",
            "Epoch 2/2\n",
            "469/469 [==============================] - 14s 30ms/step - loss: 0.4890 - accuracy: 0.8270 - val_loss: 0.4809 - val_accuracy: 0.8297\n",
            "Epoch 1/2\n",
            "469/469 [==============================] - 13s 27ms/step - loss: 0.7566 - accuracy: 0.7384 - val_loss: 0.5705 - val_accuracy: 0.7923\n",
            "Epoch 2/2\n",
            "469/469 [==============================] - 12s 25ms/step - loss: 0.5051 - accuracy: 0.8203 - val_loss: 0.5025 - val_accuracy: 0.8171\n",
            "Epoch 1/2\n",
            "469/469 [==============================] - 17s 34ms/step - loss: 0.7734 - accuracy: 0.7236 - val_loss: 0.5780 - val_accuracy: 0.7791\n",
            "Epoch 2/2\n",
            "469/469 [==============================] - 13s 28ms/step - loss: 0.5082 - accuracy: 0.8178 - val_loss: 0.4973 - val_accuracy: 0.8197\n",
            "Epoch 1/2\n",
            "469/469 [==============================] - 16s 31ms/step - loss: 0.7525 - accuracy: 0.7384 - val_loss: 0.5663 - val_accuracy: 0.7949\n",
            "Epoch 2/2\n",
            "469/469 [==============================] - 14s 30ms/step - loss: 0.4986 - accuracy: 0.8236 - val_loss: 0.4899 - val_accuracy: 0.8279\n",
            "Epoch 1/2\n",
            "469/469 [==============================] - 15s 31ms/step - loss: 0.7770 - accuracy: 0.7292 - val_loss: 0.5661 - val_accuracy: 0.7915\n",
            "Epoch 2/2\n",
            "469/469 [==============================] - 14s 30ms/step - loss: 0.4986 - accuracy: 0.8224 - val_loss: 0.4950 - val_accuracy: 0.8218\n",
            "Epoch 1/2\n",
            "469/469 [==============================] - 17s 33ms/step - loss: 0.8068 - accuracy: 0.7151 - val_loss: 0.6059 - val_accuracy: 0.7774\n",
            "Epoch 2/2\n",
            "469/469 [==============================] - 17s 35ms/step - loss: 0.5151 - accuracy: 0.8152 - val_loss: 0.5070 - val_accuracy: 0.8166\n",
            "Epoch 1/2\n",
            "469/469 [==============================] - 13s 25ms/step - loss: 0.7589 - accuracy: 0.7308 - val_loss: 0.5785 - val_accuracy: 0.7816\n",
            "Epoch 2/2\n",
            "469/469 [==============================] - 12s 26ms/step - loss: 0.5018 - accuracy: 0.8214 - val_loss: 0.4898 - val_accuracy: 0.8253\n",
            "Epoch 1/2\n",
            "469/469 [==============================] - 12s 25ms/step - loss: 0.7767 - accuracy: 0.7272 - val_loss: 0.5993 - val_accuracy: 0.7726\n",
            "Epoch 2/2\n",
            "469/469 [==============================] - 12s 25ms/step - loss: 0.5037 - accuracy: 0.8214 - val_loss: 0.4928 - val_accuracy: 0.8235\n",
            "Epoch 1/2\n",
            "469/469 [==============================] - 13s 26ms/step - loss: 0.7550 - accuracy: 0.7394 - val_loss: 0.5493 - val_accuracy: 0.8018\n",
            "Epoch 2/2\n",
            "469/469 [==============================] - 11s 24ms/step - loss: 0.4873 - accuracy: 0.8284 - val_loss: 0.4822 - val_accuracy: 0.8317\n"
          ]
        }
      ]
    },
    {
      "cell_type": "code",
      "source": [
        "hist3 = []\n",
        "for i in range(10):\n",
        "  # инициализация пустой модели\n",
        "  model3 = Sequential()\n",
        "  \n",
        "  # первый сверточный слой\n",
        "  model3.add(layers.Conv2D(56, kernel_size=(7, 7), strides=(1, 1), activation='tanh', input_shape=(28,28,1), padding=\"same\"))\n",
        "  \n",
        "  # второй пуллинговый слой\n",
        "  model3.add(layers.AveragePooling2D(pool_size=(2, 2), strides=(1, 1), padding=\"same\"))\n",
        "  \n",
        "  # третий сверточный слой\n",
        "  model3.add(layers.Conv2D(156, kernel_size=(6, 6), strides=(1, 1), activation='tanh', padding=\"same\"))\n",
        "  \n",
        "  # четвертый пуллинговый слой\n",
        "  model3.add(layers.AveragePooling2D(pool_size=(2, 2), strides=(2, 2), padding=\"same\"))\n",
        "  \n",
        "  # пятый полносвязный слой\n",
        "  model3.add(layers.Conv2D(264, kernel_size=(5, 5), strides=(1, 1), activation='tanh', padding=\"same\"))\n",
        "  \n",
        "  # сглаживание CNN выхода чтобы можно было его присоединить к полносвязному слою\n",
        "  model3.add(layers.Flatten())\n",
        "  \n",
        "  # шестой полносвязный слой\n",
        "  model3.add(layers.Dense(84, activation='tanh'))\n",
        "\n",
        "  # выходной слой с функцией активации softmax\n",
        "  model3.add(layers.Dense(10, activation='softmax'))\n",
        "\n",
        "  # компилияция модели\n",
        "  model3.compile(loss=keras.losses.categorical_crossentropy, optimizer='SGD', metrics=[\"accuracy\"])\n",
        "  \n",
        "  \n",
        "  hist3.append(model3.fit(x=x_train,y=y_train, epochs=2, batch_size=128, validation_data=(x_test, y_test), verbose=1))"
      ],
      "metadata": {
        "colab": {
          "base_uri": "https://localhost:8080/"
        },
        "id": "uFncEAGqH5P-",
        "outputId": "477045aa-6882-419d-c8a4-dedf81924e29"
      },
      "execution_count": 44,
      "outputs": [
        {
          "output_type": "stream",
          "name": "stdout",
          "text": [
            "Epoch 1/2\n",
            "469/469 [==============================] - 65s 138ms/step - loss: 0.7407 - accuracy: 0.7346 - val_loss: 0.5573 - val_accuracy: 0.7958\n",
            "Epoch 2/2\n",
            "469/469 [==============================] - 65s 138ms/step - loss: 0.4924 - accuracy: 0.8222 - val_loss: 0.4859 - val_accuracy: 0.8295\n",
            "Epoch 1/2\n",
            "469/469 [==============================] - 68s 142ms/step - loss: 0.7333 - accuracy: 0.7381 - val_loss: 0.5496 - val_accuracy: 0.8000\n",
            "Epoch 2/2\n",
            "469/469 [==============================] - 66s 140ms/step - loss: 0.4863 - accuracy: 0.8251 - val_loss: 0.4976 - val_accuracy: 0.8153\n",
            "Epoch 1/2\n",
            "469/469 [==============================] - 66s 139ms/step - loss: 0.7477 - accuracy: 0.7308 - val_loss: 0.5845 - val_accuracy: 0.7760\n",
            "Epoch 2/2\n",
            "469/469 [==============================] - 65s 138ms/step - loss: 0.4902 - accuracy: 0.8234 - val_loss: 0.4804 - val_accuracy: 0.8291\n",
            "Epoch 1/2\n",
            "469/469 [==============================] - 68s 143ms/step - loss: 0.7315 - accuracy: 0.7408 - val_loss: 0.5403 - val_accuracy: 0.8042\n",
            "Epoch 2/2\n",
            "469/469 [==============================] - 66s 140ms/step - loss: 0.4882 - accuracy: 0.8246 - val_loss: 0.4804 - val_accuracy: 0.8287\n",
            "Epoch 1/2\n",
            "469/469 [==============================] - 66s 140ms/step - loss: 0.7418 - accuracy: 0.7341 - val_loss: 0.5627 - val_accuracy: 0.7996\n",
            "Epoch 2/2\n",
            "469/469 [==============================] - 66s 142ms/step - loss: 0.4924 - accuracy: 0.8241 - val_loss: 0.4808 - val_accuracy: 0.8309\n",
            "Epoch 1/2\n",
            "469/469 [==============================] - 67s 142ms/step - loss: 0.7602 - accuracy: 0.7255 - val_loss: 0.5936 - val_accuracy: 0.7804\n",
            "Epoch 2/2\n",
            "469/469 [==============================] - 65s 138ms/step - loss: 0.5038 - accuracy: 0.8165 - val_loss: 0.4997 - val_accuracy: 0.8198\n",
            "Epoch 1/2\n",
            "469/469 [==============================] - 65s 138ms/step - loss: 0.7415 - accuracy: 0.7381 - val_loss: 0.5472 - val_accuracy: 0.8026\n",
            "Epoch 2/2\n",
            "469/469 [==============================] - 64s 137ms/step - loss: 0.4873 - accuracy: 0.8259 - val_loss: 0.4907 - val_accuracy: 0.8203\n",
            "Epoch 1/2\n",
            "469/469 [==============================] - 65s 138ms/step - loss: 0.7542 - accuracy: 0.7323 - val_loss: 0.5633 - val_accuracy: 0.7921\n",
            "Epoch 2/2\n",
            "469/469 [==============================] - 65s 138ms/step - loss: 0.4881 - accuracy: 0.8267 - val_loss: 0.4797 - val_accuracy: 0.8295\n",
            "Epoch 1/2\n",
            "469/469 [==============================] - 66s 139ms/step - loss: 0.7557 - accuracy: 0.7353 - val_loss: 0.5748 - val_accuracy: 0.7816\n",
            "Epoch 2/2\n",
            "469/469 [==============================] - 67s 142ms/step - loss: 0.4967 - accuracy: 0.8231 - val_loss: 0.4847 - val_accuracy: 0.8275\n",
            "Epoch 1/2\n",
            "469/469 [==============================] - 65s 138ms/step - loss: 0.7467 - accuracy: 0.7334 - val_loss: 0.5636 - val_accuracy: 0.7958\n",
            "Epoch 2/2\n",
            "469/469 [==============================] - 64s 137ms/step - loss: 0.4990 - accuracy: 0.8195 - val_loss: 0.4867 - val_accuracy: 0.8225\n"
          ]
        }
      ]
    },
    {
      "cell_type": "code",
      "source": [
        "# инициализация пустой модели\n",
        "model4 = Sequential()\n",
        "\n",
        "# первый сверточный слой\n",
        "model4.add(layers.Conv2D(56, kernel_size=(20, 20), strides=(1, 1), activation='tanh', input_shape=(28,28,1), padding=\"same\"))\n",
        "\n",
        "# второй пуллинговый слой\n",
        "model4.add(layers.AveragePooling2D(pool_size=(2, 2), strides=(1, 1), padding=\"same\"))\n",
        "\n",
        "# третий сверточный слой\n",
        "model4.add(layers.Conv2D(156, kernel_size=(15, 15), strides=(1, 1), activation='tanh', padding=\"same\"))\n",
        "\n",
        "# четвертый пуллинговый слой\n",
        "model4.add(layers.AveragePooling2D(pool_size=(2, 2), strides=(1, 1), padding=\"same\"))\n",
        "\n",
        "# пятый сверточный слой\n",
        "model4.add(layers.Conv2D(264, kernel_size=(15, 15), strides=(1, 1), activation='tanh', padding=\"same\"))\n",
        "\n",
        "# шестой пуллинговый слой\n",
        "model4.add(layers.AveragePooling2D(pool_size=(2, 2), strides=(2, 2), padding=\"same\"))\n",
        "\n",
        "# седьмой полносвязный слой\n",
        "model4.add(layers.Conv2D(516, kernel_size=(10, 10), strides=(1, 1), activation='tanh', padding='valid'))\n",
        "\n",
        "# сглаживание CNN выхода чтобы можно было его присоединить к полносвязному слою\n",
        "model4.add(layers.Flatten())\n",
        "\n",
        "# восьмой полносвязный слой\n",
        "model4.add(layers.Dense(264, activation='tanh'))\n",
        "\n",
        "# выходной слой с функцией активации softmax\n",
        "model4.add(layers.Dense(10, activation='softmax'))\n",
        "\n",
        "# компилияция модели\n",
        "model4.compile(loss=keras.losses.categorical_crossentropy, optimizer='SGD', metrics=[\"accuracy\"])\n",
        "\n",
        "\n",
        "hist4 = model4.fit(x=x_train,y=y_train, epochs=2, batch_size=128, validation_data=(x_test, y_test), verbose=1)"
      ],
      "metadata": {
        "colab": {
          "base_uri": "https://localhost:8080/"
        },
        "id": "Ii7qv__VKBJL",
        "outputId": "a6d8c193-2185-4644-80f4-de13dbac7bd6"
      },
      "execution_count": 46,
      "outputs": [
        {
          "output_type": "stream",
          "name": "stdout",
          "text": [
            "Epoch 1/2\n",
            "469/469 [==============================] - 237s 505ms/step - loss: 0.6716 - accuracy: 0.7536 - val_loss: 0.5412 - val_accuracy: 0.7938\n",
            "Epoch 2/2\n",
            "469/469 [==============================] - 237s 504ms/step - loss: 0.4554 - accuracy: 0.8347 - val_loss: 0.4547 - val_accuracy: 0.8365\n"
          ]
        }
      ]
    },
    {
      "cell_type": "code",
      "source": [
        "hist5 = []\n",
        "for i in range(10):\n",
        "  # инициализация пустой модели\n",
        "  model5 = Sequential()\n",
        "  \n",
        "  # первый полносвязный слой\n",
        "  model5.add(layers.Dense(84, activation='tanh'))\n",
        "  \n",
        "  # сглаживание CNN выхода чтобы можно было его присоединить к полносвязному слою\n",
        "  model5.add(layers.Flatten())\n",
        "  \n",
        "  # второй полносвязный слой\n",
        "  model5.add(layers.Dense(84, activation='tanh'))\n",
        "  \n",
        "  # третий полносвязный слой\n",
        "  model5.add(layers.Dense(84, activation='tanh'))\n",
        "  \n",
        "  # четвёртый полносвязный слой\n",
        "  model5.add(layers.Dense(84, activation='tanh'))\n",
        "  \n",
        "  # пятый полносвязный слой\n",
        "  model5.add(layers.Dense(84, activation='tanh'))\n",
        "  \n",
        "  # шестой полносвязный слой\n",
        "  model5.add(layers.Dense(84, activation='tanh'))\n",
        "  \n",
        "  # выходной слой с функцией активации softmax\n",
        "  model5.add(layers.Dense(10, activation='softmax'))\n",
        "  \n",
        "  # компилияция модели\n",
        "  model5.compile(loss=keras.losses.categorical_crossentropy, optimizer='SGD', metrics=[\"accuracy\"])\n",
        "\n",
        "\n",
        "  hist5.append(model5.fit(x=x_train,y=y_train, epochs=2, batch_size=128, validation_data=(x_test, y_test), verbose=1))"
      ],
      "metadata": {
        "colab": {
          "base_uri": "https://localhost:8080/"
        },
        "id": "TI-bGlHSi6Sb",
        "outputId": "41742ce8-2935-4361-96e6-d1a3f6b9c298"
      },
      "execution_count": 47,
      "outputs": [
        {
          "output_type": "stream",
          "name": "stdout",
          "text": [
            "Epoch 1/2\n",
            "469/469 [==============================] - 11s 22ms/step - loss: 0.8553 - accuracy: 0.7487 - val_loss: 0.5800 - val_accuracy: 0.8019\n",
            "Epoch 2/2\n",
            "469/469 [==============================] - 9s 18ms/step - loss: 0.5092 - accuracy: 0.8256 - val_loss: 0.4935 - val_accuracy: 0.8267\n",
            "Epoch 1/2\n",
            "469/469 [==============================] - 9s 17ms/step - loss: 0.8374 - accuracy: 0.7487 - val_loss: 0.5889 - val_accuracy: 0.8002\n",
            "Epoch 2/2\n",
            "469/469 [==============================] - 9s 19ms/step - loss: 0.5128 - accuracy: 0.8238 - val_loss: 0.5086 - val_accuracy: 0.8184\n",
            "Epoch 1/2\n",
            "469/469 [==============================] - 9s 18ms/step - loss: 0.8264 - accuracy: 0.7412 - val_loss: 0.5991 - val_accuracy: 0.7898\n",
            "Epoch 2/2\n",
            "469/469 [==============================] - 8s 17ms/step - loss: 0.5189 - accuracy: 0.8213 - val_loss: 0.5124 - val_accuracy: 0.8199\n",
            "Epoch 1/2\n",
            "469/469 [==============================] - 10s 18ms/step - loss: 0.8497 - accuracy: 0.7383 - val_loss: 0.6082 - val_accuracy: 0.7971\n",
            "Epoch 2/2\n",
            "469/469 [==============================] - 8s 18ms/step - loss: 0.5214 - accuracy: 0.8228 - val_loss: 0.5065 - val_accuracy: 0.8211\n",
            "Epoch 1/2\n",
            "469/469 [==============================] - 9s 19ms/step - loss: 0.8310 - accuracy: 0.7508 - val_loss: 0.5850 - val_accuracy: 0.7997\n",
            "Epoch 2/2\n",
            "469/469 [==============================] - 9s 20ms/step - loss: 0.5141 - accuracy: 0.8235 - val_loss: 0.4996 - val_accuracy: 0.8232\n",
            "Epoch 1/2\n",
            "469/469 [==============================] - 11s 22ms/step - loss: 0.8423 - accuracy: 0.7432 - val_loss: 0.5849 - val_accuracy: 0.8041\n",
            "Epoch 2/2\n",
            "469/469 [==============================] - 10s 21ms/step - loss: 0.5124 - accuracy: 0.8249 - val_loss: 0.5125 - val_accuracy: 0.8215\n",
            "Epoch 1/2\n",
            "469/469 [==============================] - 9s 18ms/step - loss: 0.8945 - accuracy: 0.7353 - val_loss: 0.6078 - val_accuracy: 0.7906\n",
            "Epoch 2/2\n",
            "469/469 [==============================] - 9s 18ms/step - loss: 0.5297 - accuracy: 0.8186 - val_loss: 0.5113 - val_accuracy: 0.8170\n",
            "Epoch 1/2\n",
            "469/469 [==============================] - 9s 19ms/step - loss: 0.8471 - accuracy: 0.7501 - val_loss: 0.5839 - val_accuracy: 0.8023\n",
            "Epoch 2/2\n",
            "469/469 [==============================] - 9s 19ms/step - loss: 0.5062 - accuracy: 0.8283 - val_loss: 0.5000 - val_accuracy: 0.8258\n",
            "Epoch 1/2\n",
            "469/469 [==============================] - 12s 22ms/step - loss: 0.8235 - accuracy: 0.7513 - val_loss: 0.5783 - val_accuracy: 0.8012\n",
            "Epoch 2/2\n",
            "469/469 [==============================] - 8s 18ms/step - loss: 0.5068 - accuracy: 0.8267 - val_loss: 0.5002 - val_accuracy: 0.8222\n",
            "Epoch 1/2\n",
            "469/469 [==============================] - 9s 18ms/step - loss: 0.8609 - accuracy: 0.7443 - val_loss: 0.5902 - val_accuracy: 0.7987\n",
            "Epoch 2/2\n",
            "469/469 [==============================] - 10s 21ms/step - loss: 0.5130 - accuracy: 0.8235 - val_loss: 0.5167 - val_accuracy: 0.8173\n"
          ]
        }
      ]
    },
    {
      "cell_type": "markdown",
      "source": [
        "## 1.3 Результаты работы моделей и вывод:"
      ],
      "metadata": {
        "id": "jxfX-mhwRXEl"
      }
    },
    {
      "cell_type": "code",
      "source": [
        "print('Первая модель с падением размера ядра свертки и последовательностью блоков свертка-пулинг')\n",
        "print('Accuracy {:.2f}%'.format(sum(h.history['accuracy'][1] for h in hist1)/len(hist1) * 100, \"%\"))"
      ],
      "metadata": {
        "colab": {
          "base_uri": "https://localhost:8080/"
        },
        "id": "KGoGZ6-uKLGY",
        "outputId": "cd6d38d3-d3c7-4574-b685-95ccc1815fb1"
      },
      "execution_count": 73,
      "outputs": [
        {
          "output_type": "stream",
          "name": "stdout",
          "text": [
            "Первая модель с падением размера ядра свертки и последовательностью блоков свертка-пулинг\n",
            "Accuracy 79.38%\n"
          ]
        }
      ]
    },
    {
      "cell_type": "code",
      "source": [
        "print('Вторая модель (с увеличением размера ядер)')\n",
        "print('Accuracy {:.2f}%'.format(sum(h.history['accuracy'][1] for h in hist2)/len(hist2) * 100, \"%\"))"
      ],
      "metadata": {
        "colab": {
          "base_uri": "https://localhost:8080/"
        },
        "id": "66Df67DFY-lX",
        "outputId": "2fe95ac0-4ab3-43fa-d8c1-e915bbc1af43"
      },
      "execution_count": 72,
      "outputs": [
        {
          "output_type": "stream",
          "name": "stdout",
          "text": [
            "Вторая модель (с увеличением размера ядер)\n",
            "Accuracy 82.19%\n"
          ]
        }
      ]
    },
    {
      "cell_type": "code",
      "source": [
        "print('Третья модель (с увеличением числа ядер)')\n",
        "print('Accuracy {:.2f}%'.format(sum(h.history['accuracy'][1] for h in hist3)/len(hist3) * 100, \"%\"))"
      ],
      "metadata": {
        "colab": {
          "base_uri": "https://localhost:8080/"
        },
        "id": "Q83GP5lnY-h-",
        "outputId": "2b820586-1020-4908-e0d4-362c4c21e8ae"
      },
      "execution_count": 74,
      "outputs": [
        {
          "output_type": "stream",
          "name": "stdout",
          "text": [
            "Третья модель (с увеличением числа ядер)\n",
            "Accuracy 82.31%\n"
          ]
        }
      ]
    },
    {
      "cell_type": "code",
      "source": [
        "print('Четвёртая модель (с увеличением числа слоёв)')\n",
        "print('Accuracy {:.2f}%'.format(hist4.history['accuracy'][1]*100, \"%\"))"
      ],
      "metadata": {
        "colab": {
          "base_uri": "https://localhost:8080/"
        },
        "id": "XIRp1PaGY-fF",
        "outputId": "c6145831-a521-4d9a-ce4a-bc781b51ee3b"
      },
      "execution_count": 78,
      "outputs": [
        {
          "output_type": "stream",
          "name": "stdout",
          "text": [
            "Четвёртая модель (с увеличением числа слоёв)\n",
            "Accuracy 83.47%\n"
          ]
        }
      ]
    },
    {
      "cell_type": "code",
      "source": [
        "print('Модель полносвязной сети')\n",
        "print('Accuracy {:.2f}%'.format(sum(h.history['accuracy'][1] for h in hist5)/len(hist5) * 100, \"%\"))"
      ],
      "metadata": {
        "colab": {
          "base_uri": "https://localhost:8080/"
        },
        "id": "hjErqQnzY-cd",
        "outputId": "c8d53b45-1532-401f-d7e6-532dfa0f043e"
      },
      "execution_count": 79,
      "outputs": [
        {
          "output_type": "stream",
          "name": "stdout",
          "text": [
            "Модель полносвязной сети\n",
            "Accuracy 82.39%\n"
          ]
        }
      ]
    },
    {
      "cell_type": "markdown",
      "source": [
        "### Вывод: \n",
        "\n",
        "Увеличение числа слоёв, ядер и размера ядер приводило к несущественному улучшению работы моделей при существенном увеличении времени вычисления. В случае, если не изменять параметр padding, увеличение числа слоёв/ядер может привести даже к ухудшению работы модели (правда, тоже не очень большому). Полносвязная сеть отработала не хуже прочих моделей и при этом довольно быстро.\n",
        "\n",
        "Для четвёртой модели не стала строить цикл, так как по остальным моделям заметила, что результаты работы не очень сильно отклоняются от среднего, а вычислялись результаты четвёртой модели очень долго."
      ],
      "metadata": {
        "id": "gbCdhBXtxK8I"
      }
    },
    {
      "cell_type": "markdown",
      "source": [
        "# Вариант 2. (сложный)"
      ],
      "metadata": {
        "id": "UzK2yP8iyp0K"
      }
    },
    {
      "cell_type": "markdown",
      "source": [
        "## 2.1 Загрузка данных, разбиение данных на тренировочную и тестовую выборки"
      ],
      "metadata": {
        "id": "BRgUVwjO2xV2"
      }
    },
    {
      "cell_type": "code",
      "source": [
        "classes=['самолет', 'автомобиль', 'птица', 'кот', 'олень', 'собака', 'лягушка', 'лошадь', 'корабль', 'грузовик']\n",
        "num_classes = 10"
      ],
      "metadata": {
        "id": "bKTWIYFp1ztH"
      },
      "execution_count": 82,
      "outputs": []
    },
    {
      "cell_type": "code",
      "source": [
        "# разделение тренировочной и тестовой выборки\n",
        "(x_train, y_train), (x_test, y_test) = cifar10.load_data()\n",
        "\n",
        "# преобразование матрицы чисел 0-9 в бинарную матрицу чисел 0-1\n",
        "y_train = keras.utils.to_categorical(y_train, num_classes)\n",
        "y_test = keras.utils.to_categorical(y_test, num_classes)\n",
        "\n",
        "\n",
        "x_train = x_train.astype('float32')\n",
        "x_test = x_test.astype('float32')\n",
        "x_train /= 255\n",
        "x_test /= 255\n",
        "\n",
        "print('x_train shape:', x_train.shape)\n",
        "print(x_train.shape[0], 'тренировочные примеры')\n",
        "print(x_test.shape[0], 'тестовые примеры')"
      ],
      "metadata": {
        "colab": {
          "base_uri": "https://localhost:8080/"
        },
        "id": "9XZWShZy1LBe",
        "outputId": "92eea77b-e4c5-420a-f85e-f19bd9633ecd"
      },
      "execution_count": 84,
      "outputs": [
        {
          "output_type": "stream",
          "name": "stdout",
          "text": [
            "x_train shape: (50000, 32, 32, 3)\n",
            "50000 тренировочные примеры\n",
            "10000 тестовые примеры\n"
          ]
        }
      ]
    },
    {
      "cell_type": "markdown",
      "source": [
        "## 2.2 Построение моделей"
      ],
      "metadata": {
        "id": "dz16c8zzHytC"
      }
    },
    {
      "cell_type": "code",
      "source": [
        "# сеть из трёх нитей:\n",
        "\n",
        "first_input = Input(shape=(32,32,3))\n",
        "x11= Conv2D(10,3,activation='relu',padding = 'same')(first_input)\n",
        "first_dense = x11# Dense(10, )(x11)\n",
        "\n",
        "x22= Conv2D(16,5,activation='relu',padding = 'same')(first_input)\n",
        "second_dense = x22\n",
        "\n",
        "merge_one = Concatenate(   )([first_dense, second_dense])\n",
        "\n",
        "third_input = Input(shape=(32,32,3))\n",
        "x33= Conv2D(10,1,activation='relu',padding = 'same')(first_input)\n",
        "\n",
        "merge_two = Concatenate( axis=-1)([merge_one, x33])\n",
        "merge_two= Flatten()(merge_two)\n",
        "merge_two=Dense(10, activation='softmax')(merge_two)\n",
        "\n",
        "model_stek = Model(inputs=first_input, outputs=merge_two)\n",
        "\n",
        "ada_grad = tf.keras.optimizers.Adagrad(lr=0.1, epsilon=1e-08, decay=0.0)\n",
        "model_stek.compile(optimizer=ada_grad, loss=tf.keras.losses.CategoricalCrossentropy(),\n",
        "              metrics=['accuracy'])\n",
        "\n",
        "plot_model(model_stek,'model_stek.png')"
      ],
      "metadata": {
        "colab": {
          "base_uri": "https://localhost:8080/",
          "height": 599
        },
        "id": "_whnMBRPY-Wr",
        "outputId": "a9c6dde0-5de7-486a-d81f-9682d0fb5caa"
      },
      "execution_count": 92,
      "outputs": [
        {
          "output_type": "stream",
          "name": "stderr",
          "text": [
            "/usr/local/lib/python3.7/dist-packages/keras/optimizer_v2/adagrad.py:74: UserWarning: The `lr` argument is deprecated, use `learning_rate` instead.\n",
            "  super(Adagrad, self).__init__(name, **kwargs)\n"
          ]
        },
        {
          "output_type": "execute_result",
          "data": {
            "image/png": "[encoded data removed]",
            "text/plain": [
              "<IPython.core.display.Image object>"
            ]
          },
          "metadata": {},
          "execution_count": 92
        }
      ]
    },
    {
      "cell_type": "code",
      "source": [
        "hist21 = model_stek.fit(x_train,y_train, epochs = 5, validation_data=(x_test, y_test))"
      ],
      "metadata": {
        "colab": {
          "base_uri": "https://localhost:8080/"
        },
        "id": "K-WshPywY-JQ",
        "outputId": "6e50b6c0-4f49-4a45-d4f6-3aaa6728caf3"
      },
      "execution_count": 98,
      "outputs": [
        {
          "output_type": "stream",
          "name": "stdout",
          "text": [
            "Epoch 1/5\n",
            "1563/1563 [==============================] - 20s 13ms/step - loss: 0.9612 - accuracy: 0.6685 - val_loss: 1.2334 - val_accuracy: 0.5780\n",
            "Epoch 2/5\n",
            "1563/1563 [==============================] - 18s 12ms/step - loss: 0.9070 - accuracy: 0.6898 - val_loss: 1.2130 - val_accuracy: 0.5860\n",
            "Epoch 3/5\n",
            "1563/1563 [==============================] - 17s 11ms/step - loss: 0.8620 - accuracy: 0.7019 - val_loss: 1.2822 - val_accuracy: 0.5643\n",
            "Epoch 4/5\n",
            "1563/1563 [==============================] - 19s 12ms/step - loss: 0.8243 - accuracy: 0.7137 - val_loss: 1.2497 - val_accuracy: 0.5846\n",
            "Epoch 5/5\n",
            "1563/1563 [==============================] - 20s 13ms/step - loss: 0.7872 - accuracy: 0.7306 - val_loss: 1.2912 - val_accuracy: 0.5800\n"
          ]
        }
      ]
    },
    {
      "cell_type": "code",
      "source": [
        "# сеть из пяти нитей:\n",
        "\n",
        "first_input = Input(shape=(32,32,3))\n",
        "x11= Conv2D(10,3,activation='relu',padding = 'same')(first_input)\n",
        "first_dense = x11\n",
        "x22= Conv2D(16,5,activation='relu',padding = 'same')(first_input)\n",
        "second_dense = x22\n",
        "\n",
        "merge_one = Concatenate(   )([first_dense, second_dense])\n",
        "\n",
        "x33= Conv2D(10,1,activation='relu',padding = 'same')(first_input)\n",
        "third_dense = x33\n",
        "x44= Conv2D(10,1,activation='relu',padding = 'same')(first_input)\n",
        "fourth_dense = x44\n",
        "x55= Conv2D(10,1,activation='relu',padding = 'same')(first_input)\n",
        "fifth_dense = x55\n",
        "\n",
        "merge_two = Concatenate(   )([third_dense, fourth_dense, fifth_dense])\n",
        "\n",
        "final_merge = Concatenate( axis=-1)([merge_one, merge_two])\n",
        "final_merge = Flatten()(final_merge)\n",
        "final_merge = Dense(10, activation='softmax')(final_merge)\n",
        "\n",
        "model_stek = Model(inputs=first_input, outputs=final_merge)\n",
        "\n",
        "ada_grad = tf.keras.optimizers.Adagrad(lr=0.1, epsilon=1e-08, decay=0.0)\n",
        "model_stek.compile(optimizer=ada_grad, loss=tf.keras.losses.CategoricalCrossentropy(),\n",
        "              metrics=['accuracy'])\n",
        "\n",
        "plot_model(model_stek,'model_stek.png')"
      ],
      "metadata": {
        "colab": {
          "base_uri": "https://localhost:8080/",
          "height": 599
        },
        "id": "bwTfEVefY-F2",
        "outputId": "52334e30-8d84-414d-b647-ceb153d432bf"
      },
      "execution_count": 112,
      "outputs": [
        {
          "output_type": "stream",
          "name": "stderr",
          "text": [
            "/usr/local/lib/python3.7/dist-packages/keras/optimizer_v2/adagrad.py:74: UserWarning: The `lr` argument is deprecated, use `learning_rate` instead.\n",
            "  super(Adagrad, self).__init__(name, **kwargs)\n"
          ]
        },
        {
          "output_type": "execute_result",
          "data": {
            "image/png": "[encoded data removed]",
            "text/plain": [
              "<IPython.core.display.Image object>"
            ]
          },
          "metadata": {},
          "execution_count": 112
        }
      ]
    },
    {
      "cell_type": "code",
      "source": [
        "hist22 = model_stek.fit(x_train,y_train, epochs = 5, validation_data=(x_test, y_test))"
      ],
      "metadata": {
        "colab": {
          "base_uri": "https://localhost:8080/"
        },
        "id": "NbhOstOyAEDs",
        "outputId": "c15a9cb9-a24c-4480-ee85-140fa3db08c4"
      },
      "execution_count": 103,
      "outputs": [
        {
          "output_type": "stream",
          "name": "stdout",
          "text": [
            "Epoch 1/5\n",
            "1563/1563 [==============================] - 19s 12ms/step - loss: 0.7534 - accuracy: 0.7395 - val_loss: 1.2881 - val_accuracy: 0.5835\n",
            "Epoch 2/5\n",
            "1563/1563 [==============================] - 18s 11ms/step - loss: 0.7219 - accuracy: 0.7532 - val_loss: 1.3413 - val_accuracy: 0.5770\n",
            "Epoch 3/5\n",
            "1563/1563 [==============================] - 18s 11ms/step - loss: 0.6922 - accuracy: 0.7636 - val_loss: 1.2972 - val_accuracy: 0.5846\n",
            "Epoch 4/5\n",
            "1563/1563 [==============================] - 19s 12ms/step - loss: 0.6662 - accuracy: 0.7731 - val_loss: 1.2855 - val_accuracy: 0.5862\n",
            "Epoch 5/5\n",
            "1563/1563 [==============================] - 19s 12ms/step - loss: 0.6408 - accuracy: 0.7823 - val_loss: 1.2926 - val_accuracy: 0.5895\n"
          ]
        }
      ]
    },
    {
      "cell_type": "code",
      "source": [
        "# сеть из пяти нитей с большим, чем в предыдущих моделях, количеством ядер:\n",
        "\n",
        "first_input = Input(shape=(32,32,3))\n",
        "x11= Conv2D(16,3,activation='relu',padding = 'same')(first_input)\n",
        "first_dense = x11\n",
        "x22= Conv2D(20,5,activation='relu',padding = 'same')(first_input)\n",
        "second_dense = x22\n",
        "\n",
        "merge_one = Concatenate(   )([first_dense, second_dense])\n",
        "\n",
        "x33= Conv2D(16,1,activation='relu',padding = 'same')(first_input)\n",
        "third_dense = x33\n",
        "x44= Conv2D(16,1,activation='relu',padding = 'same')(first_input)\n",
        "fourth_dense = x44\n",
        "x55= Conv2D(20,1,activation='relu',padding = 'same')(first_input)\n",
        "fifth_dense = x55\n",
        "\n",
        "merge_two = Concatenate(   )([third_dense, fourth_dense, fifth_dense])\n",
        "\n",
        "final_merge = Concatenate( axis=-1)([merge_one, merge_two])\n",
        "final_merge = Flatten()(final_merge)\n",
        "final_merge = Dense(10, activation='softmax')(final_merge)\n",
        "\n",
        "model_stek = Model(inputs=first_input, outputs=final_merge)\n",
        "\n",
        "ada_grad = tf.keras.optimizers.Adagrad(lr=0.1, epsilon=1e-08, decay=0.0)\n",
        "model_stek.compile(optimizer=ada_grad, loss=tf.keras.losses.CategoricalCrossentropy(),\n",
        "              metrics=['accuracy'])\n",
        "\n",
        "# plot_model(model_stek,'model_stek.png')"
      ],
      "metadata": {
        "colab": {
          "base_uri": "https://localhost:8080/"
        },
        "id": "dFsg_AWVCFz2",
        "outputId": "d0b21487-1616-4cc4-bbf3-f69a7a89d10f"
      },
      "execution_count": 106,
      "outputs": [
        {
          "output_type": "stream",
          "name": "stderr",
          "text": [
            "/usr/local/lib/python3.7/dist-packages/keras/optimizer_v2/adagrad.py:74: UserWarning: The `lr` argument is deprecated, use `learning_rate` instead.\n",
            "  super(Adagrad, self).__init__(name, **kwargs)\n"
          ]
        }
      ]
    },
    {
      "cell_type": "code",
      "source": [
        "hist23 = model_stek.fit(x_train,y_train, epochs = 5, validation_data=(x_test, y_test))"
      ],
      "metadata": {
        "colab": {
          "base_uri": "https://localhost:8080/"
        },
        "id": "qPLiE0eaCXvo",
        "outputId": "d30c6b9b-9c96-42a5-ef70-095e28bd7078"
      },
      "execution_count": 109,
      "outputs": [
        {
          "output_type": "stream",
          "name": "stdout",
          "text": [
            "Epoch 1/5\n",
            "1563/1563 [==============================] - 22s 14ms/step - loss: 1.2056 - accuracy: 0.5781 - val_loss: 1.3642 - val_accuracy: 0.5164\n",
            "Epoch 2/5\n",
            "1563/1563 [==============================] - 20s 12ms/step - loss: 1.1738 - accuracy: 0.5861 - val_loss: 1.3710 - val_accuracy: 0.5115\n",
            "Epoch 3/5\n",
            "1563/1563 [==============================] - 20s 13ms/step - loss: 1.1469 - accuracy: 0.5971 - val_loss: 1.3441 - val_accuracy: 0.5308\n",
            "Epoch 4/5\n",
            "1563/1563 [==============================] - 22s 14ms/step - loss: 1.1234 - accuracy: 0.6074 - val_loss: 1.3609 - val_accuracy: 0.5188\n",
            "Epoch 5/5\n",
            "1563/1563 [==============================] - 22s 14ms/step - loss: 1.0906 - accuracy: 0.6188 - val_loss: 1.4086 - val_accuracy: 0.5165\n"
          ]
        }
      ]
    },
    {
      "cell_type": "code",
      "source": [
        "# сеть из пяти нитей с большим, чем в предыдущих моделях, количеством слоёв:\n",
        "\n",
        "first_input = Input(shape=(32,32,3))\n",
        "x11= Conv2D(10,3,activation='relu',padding = 'same')(first_input)\n",
        "x11= Conv2D(10,3,activation='relu',padding = 'same')(x11)\n",
        "x11= Conv2D(10,3,activation='relu',padding = 'same')(x11)\n",
        "x11= Conv2D(10,3,activation='relu',padding = 'same')(x11)\n",
        "first_dense = x11\n",
        "x22= Conv2D(16,5,activation='relu',padding = 'same')(first_input)\n",
        "x22= Conv2D(16,5,activation='relu',padding = 'same')(x22)\n",
        "x22= Conv2D(16,5,activation='relu',padding = 'same')(x22)\n",
        "second_dense = x22\n",
        "\n",
        "merge_one = Concatenate(   )([first_dense, second_dense])\n",
        "\n",
        "x33= Conv2D(10,1,activation='relu',padding = 'same')(first_input)\n",
        "x33= Conv2D(10,1,activation='relu',padding = 'same')(x33)\n",
        "x33= Conv2D(10,1,activation='relu',padding = 'same')(x33)\n",
        "third_dense = x33\n",
        "x44= Conv2D(10,1,activation='relu',padding = 'same')(first_input)\n",
        "fourth_dense = x44\n",
        "x55= Conv2D(10,1,activation='relu',padding = 'same')(first_input)\n",
        "fifth_dense = x55\n",
        "\n",
        "merge_two = Concatenate(   )([third_dense, fourth_dense, fifth_dense])\n",
        "\n",
        "final_merge = Concatenate( axis=-1)([merge_one, merge_two])\n",
        "final_merge = Flatten()(final_merge)\n",
        "final_merge = Dense(10, activation='softmax')(final_merge)\n",
        "\n",
        "model_stek = Model(inputs=first_input, outputs=final_merge)\n",
        "\n",
        "ada_grad = tf.keras.optimizers.Adagrad(lr=0.1, epsilon=1e-08, decay=0.0)\n",
        "model_stek.compile(optimizer=ada_grad, loss=tf.keras.losses.CategoricalCrossentropy(),\n",
        "              metrics=['accuracy'])"
      ],
      "metadata": {
        "colab": {
          "base_uri": "https://localhost:8080/"
        },
        "id": "vzEiHgteCuXZ",
        "outputId": "46b3f4e4-c64b-4b5a-b5ca-01dfb73100aa"
      },
      "execution_count": 117,
      "outputs": [
        {
          "output_type": "stream",
          "name": "stderr",
          "text": [
            "/usr/local/lib/python3.7/dist-packages/keras/optimizer_v2/adagrad.py:74: UserWarning: The `lr` argument is deprecated, use `learning_rate` instead.\n",
            "  super(Adagrad, self).__init__(name, **kwargs)\n"
          ]
        }
      ]
    },
    {
      "cell_type": "code",
      "source": [
        "hist24 = model_stek.fit(x_train,y_train, epochs = 5, validation_data=(x_test, y_test))"
      ],
      "metadata": {
        "colab": {
          "base_uri": "https://localhost:8080/"
        },
        "id": "4UGIbDlvFnpQ",
        "outputId": "23a8dcd7-f58f-4808-92d5-6689f4711429"
      },
      "execution_count": 118,
      "outputs": [
        {
          "output_type": "stream",
          "name": "stdout",
          "text": [
            "Epoch 1/5\n",
            "1563/1563 [==============================] - 32s 19ms/step - loss: 2.3671 - accuracy: 0.3897 - val_loss: 1.6742 - val_accuracy: 0.4097\n",
            "Epoch 2/5\n",
            "1563/1563 [==============================] - 29s 19ms/step - loss: 1.5384 - accuracy: 0.4674 - val_loss: 1.5504 - val_accuracy: 0.4453\n",
            "Epoch 3/5\n",
            "1563/1563 [==============================] - 29s 18ms/step - loss: 1.4380 - accuracy: 0.5046 - val_loss: 1.4587 - val_accuracy: 0.4844\n",
            "Epoch 4/5\n",
            "1563/1563 [==============================] - 29s 18ms/step - loss: 1.3733 - accuracy: 0.5271 - val_loss: 1.4042 - val_accuracy: 0.5105\n",
            "Epoch 5/5\n",
            "1563/1563 [==============================] - 29s 18ms/step - loss: 1.3045 - accuracy: 0.5491 - val_loss: 1.3250 - val_accuracy: 0.5430\n"
          ]
        }
      ]
    },
    {
      "cell_type": "markdown",
      "source": [
        "## 2.3 Результаты и вывод"
      ],
      "metadata": {
        "id": "j61XF5h3HqZH"
      }
    },
    {
      "cell_type": "code",
      "source": [
        "print('Модель с тремя нитями')\n",
        "print('Accuracy {:.2f}%'.format(hist21.history['accuracy'][1]*100, \"%\"))"
      ],
      "metadata": {
        "colab": {
          "base_uri": "https://localhost:8080/"
        },
        "id": "u-7XWCjiAhhk",
        "outputId": "5e47a876-8316-4c58-b516-adf65fe65005"
      },
      "execution_count": 100,
      "outputs": [
        {
          "output_type": "stream",
          "name": "stdout",
          "text": [
            "Модель с тремя нитями\n",
            "Accuracy 68.98%\n"
          ]
        }
      ]
    },
    {
      "cell_type": "code",
      "source": [
        "print('Модель с пятью нитями')\n",
        "print('Accuracy {:.2f}%'.format(hist22.history['accuracy'][1]*100, \"%\"))"
      ],
      "metadata": {
        "colab": {
          "base_uri": "https://localhost:8080/"
        },
        "id": "exjuQzt4BCzq",
        "outputId": "025ed63d-6580-4f06-cadb-d593553cbf15"
      },
      "execution_count": 104,
      "outputs": [
        {
          "output_type": "stream",
          "name": "stdout",
          "text": [
            "Модель с пятью нитями\n",
            "Accuracy 75.32%\n"
          ]
        }
      ]
    },
    {
      "cell_type": "code",
      "source": [
        "print('Модель с пятью нитями и увеличенным количеством ядер')\n",
        "print('Accuracy {:.2f}%'.format(hist23.history['accuracy'][1]*100, \"%\"))"
      ],
      "metadata": {
        "colab": {
          "base_uri": "https://localhost:8080/"
        },
        "id": "SKuyw3zgCkeY",
        "outputId": "8c5ed547-234d-489f-f3ae-ef539b9a46a1"
      },
      "execution_count": 110,
      "outputs": [
        {
          "output_type": "stream",
          "name": "stdout",
          "text": [
            "Модель с пятью нитями и увеличенным количеством ядер\n",
            "Accuracy 58.61%\n"
          ]
        }
      ]
    },
    {
      "cell_type": "code",
      "source": [
        "print('Модель с пятью нитями и увеличенным количеством слоёв')\n",
        "print('Accuracy {:.2f}%'.format(hist24.history['accuracy'][1]*100, \"%\"))"
      ],
      "metadata": {
        "colab": {
          "base_uri": "https://localhost:8080/"
        },
        "id": "NciNMZCOFyWa",
        "outputId": "3f9114db-f67b-459f-bd41-cc8b8a1bbdad"
      },
      "execution_count": 121,
      "outputs": [
        {
          "output_type": "stream",
          "name": "stdout",
          "text": [
            "Модель с пятью нитями и увеличенным количеством слоёв\n",
            "Accuracy 46.74%\n"
          ]
        }
      ]
    },
    {
      "cell_type": "markdown",
      "source": [
        "#### Вывод:\n",
        "\n",
        "Увеличение количества нитей повысило точность работы сетей, увеличение количества ядер и слоёв при количетсве нитей, равном пяти, точность сетей понизило."
      ],
      "metadata": {
        "id": "pwY9SdD6HoNG"
      }
    }
  ]
}